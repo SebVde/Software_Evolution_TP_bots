{
 "cells": [
  {
   "cell_type": "code",
   "execution_count": 6,
   "id": "ef9cc5cb-3ce4-4e59-abd5-75785e4eb067",
   "metadata": {},
   "outputs": [],
   "source": [
    "import requests\n",
    "import joblib\n",
    "import datetime\n",
    "import warnings\n",
    "import matplotlib.pyplot as plt\n",
    "import seaborn as sns\n",
    "import pandas as pd\n",
    "import numpy as np\n",
    "\n",
    "from pandas import option_context\n",
    "from tqdm import tqdm\n",
    "from statsmodels.stats.inter_rater import aggregate_raters\n",
    "from sklearn.metrics import cohen_kappa_score\n",
    "from scipy.stats import mannwhitneyu,shapiro,ttest_ind\n",
    "\n",
    "import cliffsDelta as cd\n",
    "import GenerateActivities as gat\n",
    "import important_features as imf"
   ]
  },
  {
   "cell_type": "code",
   "execution_count": null,
   "id": "67f34e37-48e6-4033-b30f-5ba256427f26",
   "metadata": {},
   "outputs": [],
   "source": [
    "QUERY_ROOT = \"https://api.github.com\"\n",
    "TOKEN = ''\n",
    "HEADERS={'Authorization':'token '+TOKEN}"
   ]
  },
  {
   "cell_type": "markdown",
   "id": "8095c72b-abe2-46b8-9034-1d9c7d98d3ad",
   "metadata": {},
   "source": [
    "## Section 3"
   ]
  },
  {
   "cell_type": "markdown",
   "id": "01c6e0c3-b012-4f00-a033-ddf3b74747c7",
   "metadata": {},
   "source": [
    "### Question 1"
   ]
  },
  {
   "cell_type": "markdown",
   "id": "2a3cc77d-eedd-4b5a-a560-b17a5a2b4cc4",
   "metadata": {},
   "source": [
    "#### Write an automated Python script to identify all GitHub bot actors in the list of contributors, by querying the GitHub REST API users endpoint and extracting the required information to make this decision. \n",
    "\n",
    "#### More information: You can search for the \"type\" key in the obtianed JSON result, If it is \"Bot\", then it is a bot actor, if it is \"User\", then it is an account."
   ]
  },
  {
   "cell_type": "code",
   "execution_count": 10,
   "id": "2d0275f0-5c13-42ea-9025-5ea307d6398d",
   "metadata": {},
   "outputs": [
    {
     "name": "stdout",
     "output_type": "stream",
     "text": [
      "                             contributor bothunter_type\n",
      "0                              AnaGabela          Human\n",
      "1                                 Dr-Irv          Human\n",
      "2                              GPUtester          Human\n",
      "3                            JuliaTagBot            Bot\n",
      "4                              Lilly-May          Human\n",
      "5                           RemieJanssen          Human\n",
      "6                               VectorNd          Human\n",
      "7                            alanlujan91          Human\n",
      "8                              atrisovic          Human\n",
      "9                             bnavigator          Human\n",
      "10                          codecov[bot]            Bot\n",
      "11                      codspeed-hq[bot]            Bot\n",
      "12                          conradsnicta          Human\n",
      "13                       dependabot[bot]            Bot\n",
      "14                            dieghernan          Human\n",
      "15                                fboehm          Human\n",
      "16  galaxyproject-sentryintegration[bot]            Bot\n",
      "17               github-merge-queue[bot]            Bot\n",
      "18                               hajimes          Human\n",
      "19                               ivilata          Human\n",
      "20                               jklymak          Human\n",
      "21                             kaandocal          Human\n",
      "22                          larrybradley          Human\n",
      "23                              marieBvr          Human\n",
      "24                                  mhvk          Human\n",
      "25                               mwtoews          Human\n",
      "26                                omaech          Human\n",
      "27                                  pkgw          Human\n",
      "28                    pre-commit-ci[bot]            Bot\n",
      "29                         renovate[bot]            Bot\n",
      "30                              rodoulak            Bot\n",
      "31                               rouault          Human\n",
      "32                      scikit-learn-bot            Bot\n",
      "33                                 shrit          Human\n",
      "34                            sklearn-ci            Bot\n",
      "35                         stan-buildbot            Bot\n",
      "36                            tardis-bot          Human\n",
      "37                           thomasjpfan          Human\n",
      "38                             westurner          Human\n",
      "39                           zeptodoctor          Human\n"
     ]
    }
   ],
   "source": [
    "# 1. Read the given <sample>.csv file into a pandas DataFrame (df).\n",
    "# 2. Make sure there are 2 columns, one column name is \"contributor\" that has the name of the contributor, \n",
    "#    and another column name is \"bothunter_type\" that you will use later on in this assignment.\n",
    "# 3. Display the DataFrame.\n",
    "\n",
    "# YOUR CODE BELOW\n",
    "data = pd.read_csv('Contributors/sample4.csv')\n",
    "if 'contributor' not in data.columns or 'bothunter_type' not in data.columns:\n",
    "    raise ValueError(\"The given csv file does not have the required columns\")\n",
    "\n",
    "print(data)"
   ]
  },
  {
   "cell_type": "code",
   "execution_count": null,
   "id": "f9312364-57d3-4f26-a216-82a22eea8349",
   "metadata": {},
   "outputs": [
    {
     "name": "stdout",
     "output_type": "stream",
     "text": [
      "['AnaGabela', 'Dr-Irv', 'GPUtester', 'JuliaTagBot', 'Lilly-May', 'RemieJanssen', 'VectorNd', 'alanlujan91', 'atrisovic', 'bnavigator', 'codecov[bot]', 'codspeed-hq[bot]', 'conradsnicta', 'dependabot[bot]', 'dieghernan', 'fboehm', 'galaxyproject-sentryintegration[bot]', 'github-merge-queue[bot]', 'hajimes', 'ivilata', 'jklymak', 'kaandocal', 'larrybradley', 'marieBvr', 'mhvk', 'mwtoews', 'omaech', 'pkgw', 'pre-commit-ci[bot]', 'renovate[bot]', 'rodoulak', 'rouault', 'scikit-learn-bot', 'shrit', 'sklearn-ci', 'stan-buildbot', 'tardis-bot', 'thomasjpfan', 'westurner', 'zeptodoctor']\n"
     ]
    }
   ],
   "source": [
    "# 1. Store the names of the contributors in a list\n",
    "# 2. print the list\n",
    "\n",
    "# YOUR CODE BELOW\n",
    "contributors = data['contributor']\n",
    "print(contributors)"
   ]
  },
  {
   "cell_type": "code",
   "execution_count": 19,
   "id": "2cd6ab44-f113-466a-863c-862674798f4c",
   "metadata": {},
   "outputs": [
    {
     "name": "stdout",
     "output_type": "stream",
     "text": [
      "[{'contributor': 'AnaGabela', 'user_type': False}, {'contributor': 'Dr-Irv', 'user_type': False}, {'contributor': 'GPUtester', 'user_type': False}, {'contributor': 'JuliaTagBot', 'user_type': False}, {'contributor': 'Lilly-May', 'user_type': False}, {'contributor': 'RemieJanssen', 'user_type': False}, {'contributor': 'VectorNd', 'user_type': False}, {'contributor': 'alanlujan91', 'user_type': False}, {'contributor': 'atrisovic', 'user_type': False}, {'contributor': 'bnavigator', 'user_type': False}, {'contributor': 'codecov[bot]', 'user_type': True}, {'contributor': 'codspeed-hq[bot]', 'user_type': True}, {'contributor': 'conradsnicta', 'user_type': False}, {'contributor': 'dependabot[bot]', 'user_type': True}, {'contributor': 'dieghernan', 'user_type': False}, {'contributor': 'fboehm', 'user_type': False}, {'contributor': 'galaxyproject-sentryintegration[bot]', 'user_type': True}, {'contributor': 'github-merge-queue[bot]', 'user_type': True}, {'contributor': 'hajimes', 'user_type': False}, {'contributor': 'ivilata', 'user_type': False}, {'contributor': 'jklymak', 'user_type': False}, {'contributor': 'kaandocal', 'user_type': False}, {'contributor': 'larrybradley', 'user_type': False}, {'contributor': 'marieBvr', 'user_type': False}, {'contributor': 'mhvk', 'user_type': False}, {'contributor': 'mwtoews', 'user_type': False}, {'contributor': 'omaech', 'user_type': False}, {'contributor': 'pkgw', 'user_type': False}, {'contributor': 'pre-commit-ci[bot]', 'user_type': True}, {'contributor': 'renovate[bot]', 'user_type': True}, {'contributor': 'rodoulak', 'user_type': False}, {'contributor': 'rouault', 'user_type': False}, {'contributor': 'scikit-learn-bot', 'user_type': False}, {'contributor': 'shrit', 'user_type': False}, {'contributor': 'sklearn-ci', 'user_type': False}, {'contributor': 'stan-buildbot', 'user_type': False}, {'contributor': 'tardis-bot', 'user_type': False}, {'contributor': 'thomasjpfan', 'user_type': False}, {'contributor': 'westurner', 'user_type': False}, {'contributor': 'zeptodoctor', 'user_type': False}]\n"
     ]
    }
   ],
   "source": [
    "# 1. Using a for loop, iterate over each contributor in the list and query the GitHub Users API.\n",
    "#    You can use \"query = f'{QUERY_ROOT}/users/{contributor}'\", where QUERY_ROOT is defined at the beginning of this notebook \n",
    "#    and 'contributor' is each individual contributor from the list\n",
    "# 2. Get the response using 'response = requests.get(query, headers=HEADERS)'.\n",
    "# 3. convert the response to JSON using 'json_response = response.json()'.\n",
    "# 4. Iterate over each JSON response and get the value of the 'type' key. If it is \"Bot\" then the contributor is a bot actor, \n",
    "#    if \"User\" then the contributor is an account. You should boolean values to indicate if the contributor is a bot actor (True) or User/Organisation (False)\n",
    "# 5. Save these results in list of dictionary of the form [{'contributor': <contributor name>, 'app': <boolean value>}, {...}, {...}, {...}].\n",
    "#    Lets call this list as \"app_dict\"\n",
    "# 6. Finally convert this list of dictionary to DataFrame by writing 'pd.DataFrame.from_dict(app_dict)'\n",
    "# 7. Display the DataFrame. This should have two columns - contributor and user_type\n",
    "\n",
    "# YOUR CODE BELOW\n",
    "app_dict = []\n",
    "for contr in contributors:\n",
    "    query = f'{QUERY_ROOT}/users/{contr}'\n",
    "    response = requests.get(query, headers=HEADERS)\n",
    "    json_response = response.json()\n",
    "    \n",
    "    if json_response['type'] == 'Bot':\n",
    "        app_dict.append({'contributor': contr, 'user_type': True})\n",
    "    else:\n",
    "        app_dict.append({'contributor': contr, 'user_type': False})\n",
    "\n",
    "pd.DataFrame.from_dict(app_dict)\n",
    "print(app_dict)"
   ]
  },
  {
   "cell_type": "markdown",
   "id": "bf7a784f-8b41-488b-8034-7f66ed9b6d97",
   "metadata": {},
   "source": [
    "### Question 2\n",
    "\n",
    "#### Add a new 'actor' column in the CSV file to store this information. You can write True if it is a bot actor and False if it is not.\n",
    "\n",
    "#### Report on the total number of GitHub bot actors, and User accounts present in the list of accounts of your dataset."
   ]
  },
  {
   "cell_type": "code",
   "execution_count": 37,
   "id": "242398c5-d3ae-472f-99e8-ac86be7897c2",
   "metadata": {},
   "outputs": [
    {
     "name": "stdout",
     "output_type": "stream",
     "text": [
      "                             contributor bothunter_type  user_type\n",
      "0                              AnaGabela          Human      False\n",
      "1                                 Dr-Irv          Human      False\n",
      "2                              GPUtester          Human      False\n",
      "3                            JuliaTagBot            Bot      False\n",
      "4                              Lilly-May          Human      False\n",
      "5                           RemieJanssen          Human      False\n",
      "6                               VectorNd          Human      False\n",
      "7                            alanlujan91          Human      False\n",
      "8                              atrisovic          Human      False\n",
      "9                             bnavigator          Human      False\n",
      "10                          codecov[bot]            Bot       True\n",
      "11                      codspeed-hq[bot]            Bot       True\n",
      "12                          conradsnicta          Human      False\n",
      "13                       dependabot[bot]            Bot       True\n",
      "14                            dieghernan          Human      False\n",
      "15                                fboehm          Human      False\n",
      "16  galaxyproject-sentryintegration[bot]            Bot       True\n",
      "17               github-merge-queue[bot]            Bot       True\n",
      "18                               hajimes          Human      False\n",
      "19                               ivilata          Human      False\n",
      "20                               jklymak          Human      False\n",
      "21                             kaandocal          Human      False\n",
      "22                          larrybradley          Human      False\n",
      "23                              marieBvr          Human      False\n",
      "24                                  mhvk          Human      False\n",
      "25                               mwtoews          Human      False\n",
      "26                                omaech          Human      False\n",
      "27                                  pkgw          Human      False\n",
      "28                    pre-commit-ci[bot]            Bot       True\n",
      "29                         renovate[bot]            Bot       True\n",
      "30                              rodoulak            Bot      False\n",
      "31                               rouault          Human      False\n",
      "32                      scikit-learn-bot            Bot      False\n",
      "33                                 shrit          Human      False\n",
      "34                            sklearn-ci            Bot      False\n",
      "35                         stan-buildbot            Bot      False\n",
      "36                            tardis-bot          Human      False\n",
      "37                           thomasjpfan          Human      False\n",
      "38                             westurner          Human      False\n",
      "39                           zeptodoctor          Human      False\n"
     ]
    }
   ],
   "source": [
    "# Merge the app DataFrame to df by writing 'pd.merge(df, <app df>, on='contributor'). This is similar to SQL join on primary key 'contributor'.\n",
    "# The resultant df should have 3 columns - contributor, bothunter_type and user_type.\n",
    "\n",
    "# YOUR CODE BELOW\n",
    "df1 = pd.merge(data, pd.DataFrame.from_dict(app_dict), on='contributor')\n",
    "print(df1)\n"
   ]
  },
  {
   "cell_type": "markdown",
   "id": "db9ba7d8-7a6f-4485-8e7b-bc5a00646021",
   "metadata": {},
   "source": [
    "### Question 3\n",
    "\n",
    "#### For each bot actor, write their purpose, the task that they automate by looking at their GitHub profile, homepage, information on the GitHub Marketplace, or other documentation that you can find online.\n"
   ]
  },
  {
   "cell_type": "code",
   "execution_count": null,
   "id": "3092d616-2426-417a-95be-7f54f1124eff",
   "metadata": {},
   "outputs": [],
   "source": [
    "# Codecov: provides metrics and information on test results through code coverage reports\n",
    "# Codspeed-hq: allows you to measure and compare the performance of your codebase during development\n",
    "# Galaxyproject-sentryintegration: tracks errors that helps admins and developers monitor and diagnose issues in their applications\n",
    "# Github-merge-queue: ensures the pull request's changes pass all required status checks when applied to the latest version of the target branch and any pull requests already in the queue\n",
    "# Pre-commit-ci: ensures that issues are detected before committing, and automatically fixes these issues\n",
    "# Renovate: helps to update dependencies in your code without needing to do it manually"
   ]
  },
  {
   "cell_type": "markdown",
   "id": "406e178f-2b41-4758-b075-e2eea47f3991",
   "metadata": {},
   "source": [
    "## Section 4"
   ]
  },
  {
   "cell_type": "markdown",
   "id": "a05bb032-1b55-402e-8074-42f2210f3a16",
   "metadata": {},
   "source": [
    "### Question 1"
   ]
  },
  {
   "cell_type": "markdown",
   "id": "48285de2-8b3a-481a-bf93-b99295ba8a4a",
   "metadata": {},
   "source": [
    "#### Write an automated script to use BIMBAS (Bot Identification Model Based on Activity Sequences) to obtain a prediction of the GitHub contributor type (Bot or Human) for the contributors present in your dataset.\n",
    "\n",
    "#### Folow the steps given in each cell to use BIMBAS and obtain predictions."
   ]
  },
  {
   "cell_type": "markdown",
   "id": "3eeb9ed4-b5b9-4be5-aaac-02948a7188cc",
   "metadata": {},
   "source": [
    "### Read all the events and select the events performed by the contributors present in the given set"
   ]
  },
  {
   "cell_type": "code",
   "execution_count": 29,
   "id": "5cab8cc3-b9ca-4b88-bddb-dafe9f3cc09f",
   "metadata": {},
   "outputs": [
    {
     "name": "stdout",
     "output_type": "stream",
     "text": [
      "        Unnamed: 0     event_id         event_type               login  \\\n",
      "3                3  39747379822  IssueCommentEvent        codecov[bot]   \n",
      "29              29  39747452010  IssueCommentEvent         JuliaTagBot   \n",
      "163            163  39747766396        CreateEvent     dependabot[bot]   \n",
      "164            164  39747766717   PullRequestEvent     dependabot[bot]   \n",
      "232            232  39747938052          PushEvent         zeptodoctor   \n",
      "...            ...          ...                ...                 ...   \n",
      "358397      358397  42415358855  IssueCommentEvent    codspeed-hq[bot]   \n",
      "358398      358398  42415372311  IssueCommentEvent        codecov[bot]   \n",
      "358405      358405  42415519755          PushEvent             rouault   \n",
      "358428      358428  42415647911          PushEvent  pre-commit-ci[bot]   \n",
      "358438      358438  42415763440   PullRequestEvent        larrybradley   \n",
      "\n",
      "                               repository          created_at   action  \\\n",
      "3                           napari/napari 2024-07-01 00:00:10  created   \n",
      "29      SciML/CommonWorldInvalidations.jl 2024-07-01 00:07:04  created   \n",
      "163            SciML/EasyModelAnalysis.jl 2024-07-01 00:34:53      NaN   \n",
      "164            SciML/EasyModelAnalysis.jl 2024-07-01 00:34:55   opened   \n",
      "232          JuliaLang/docs.julialang.org 2024-07-01 00:48:33      NaN   \n",
      "...                                   ...                 ...      ...   \n",
      "358397                        conda/conda 2024-09-30 23:27:57  created   \n",
      "358398                 pybamm-team/PyBaMM 2024-09-30 23:28:49  created   \n",
      "358405                         OSGeo/gdal 2024-09-30 23:37:42      NaN   \n",
      "358428             bokeh/bokeh_sampledata 2024-09-30 23:45:44      NaN   \n",
      "358438                  astropy/photutils 2024-09-30 23:53:07   opened   \n",
      "\n",
      "        PR_number   state           PR_node_id  ...      comment_node_id  \\\n",
      "3          7043.0    open  PR_kwDOCJ0aI85z_6lX  ...  IC_kwDOCJ0aI86DDzXh   \n",
      "29            NaN  closed                  NaN  ...  IC_kwDOMOEgaM6DD0Tk   \n",
      "163           NaN     NaN                  NaN  ...                  NaN   \n",
      "164         261.0    open  PR_kwDOI1YYHs50AC5Y  ...                  NaN   \n",
      "232           NaN     NaN                  NaN  ...                  NaN   \n",
      "...           ...     ...                  ...  ...                  ...   \n",
      "358397    14285.0    open  PR_kwDOAF8kJs59LhsL  ...  IC_kwDOAF8kJs6OHzZU   \n",
      "358398     4477.0  closed  PR_kwDOCUVVSc59LeQ9  ...  IC_kwDOCUVVSc6OH0Z2   \n",
      "358405        NaN     NaN                  NaN  ...                  NaN   \n",
      "358428        NaN     NaN                  NaN  ...                  NaN   \n",
      "358438     1902.0    open  PR_kwDOAChLfs59LxaZ  ...                  NaN   \n",
      "\n",
      "       merged                                                ref ref_type  \\\n",
      "3         NaN                                                NaN      NaN   \n",
      "29        NaN                                                NaN      NaN   \n",
      "163       NaN  dependabot/github_actions/actions/add-to-proje...   branch   \n",
      "164     False                                                NaN      NaN   \n",
      "232       NaN                                                NaN      NaN   \n",
      "...       ...                                                ...      ...   \n",
      "358397    NaN                                                NaN      NaN   \n",
      "358398    NaN                                                NaN      NaN   \n",
      "358405    NaN                                                NaN      NaN   \n",
      "358428    NaN                                                NaN      NaN   \n",
      "358438  False                                                NaN      NaN   \n",
      "\n",
      "        issue_number       issue_node_id       issue_closed_at tag_name  \\\n",
      "3                NaN                 NaN                   NaN      NaN   \n",
      "29               5.0  I_kwDOMOEgaM6N6wg8  2024-06-28T18:51:28Z      NaN   \n",
      "163              NaN                 NaN                   NaN      NaN   \n",
      "164              NaN                 NaN                   NaN      NaN   \n",
      "232              NaN                 NaN                   NaN      NaN   \n",
      "...              ...                 ...                   ...      ...   \n",
      "358397           NaN                 NaN                   NaN      NaN   \n",
      "358398           NaN                 NaN                   NaN      NaN   \n",
      "358405           NaN                 NaN                   NaN      NaN   \n",
      "358428           NaN                 NaN                   NaN      NaN   \n",
      "358438           NaN                 NaN                   NaN      NaN   \n",
      "\n",
      "       release_node_id          org  \n",
      "3                  NaN       napari  \n",
      "29                 NaN        SciML  \n",
      "163                NaN        SciML  \n",
      "164                NaN        SciML  \n",
      "232                NaN    JuliaLang  \n",
      "...                ...          ...  \n",
      "358397             NaN        conda  \n",
      "358398             NaN  pybamm-team  \n",
      "358405             NaN        OSGeo  \n",
      "358428             NaN        bokeh  \n",
      "358438             NaN      astropy  \n",
      "\n",
      "[14228 rows x 25 columns]\n"
     ]
    }
   ],
   "source": [
    "# 1. Read the csv file of events (all_events.csv) provided along with this notebook\n",
    "# 2. Convert created_at column to datetime format \n",
    "#    One possible way is to use lambda function: \"events.assign(created_at=lambda d: pd.to_datetime(d.created_at, unit='ms'))\"\n",
    "# 3. Get the contributors provided to you in a list or use the contributors list that you created in Section 3 Question 1. \n",
    "#    e.g., ['contributor1', 'contributor2', 'contributor3',...]\n",
    "# 4. Select the events performed by these contributors alone. Do not consider all the events. You should consider only the events\n",
    "#    performed by the contributors provided to you. Hint: you can use the df.query function\n",
    "# 5. Display the considered events.\n",
    "\n",
    "# YOUR CODE BELOW\n",
    "events = pd.read_csv('all_events.csv')\n",
    "events = events.assign(created_at=lambda d: pd.to_datetime(d.created_at, unit='ms'))\n",
    "events = events.query('login in @contributors')\n",
    "print(events)\n"
   ]
  },
  {
   "cell_type": "markdown",
   "id": "270f221c-e9a6-463b-b76a-10c83f691fbd",
   "metadata": {},
   "source": [
    "### Execute BIMBAS to obtain the predictions"
   ]
  },
  {
   "cell_type": "code",
   "execution_count": 5,
   "id": "3f873efc-01b5-495e-8b99-87ce15962ce2",
   "metadata": {},
   "outputs": [],
   "source": [
    "# Do not modify this cell\n",
    "# Use the following function the code below to obtain your predictions\n",
    "\n",
    "def execute_bimbas(contributors_list, selected_events):\n",
    "    '''\n",
    "    args: contributors_list (list) - list of contributors in the dataset provided to you\n",
    "          selected_events (DataFrame) - DataFrame of events performed by the considered contributors\n",
    "    return: bimbas_prediction (DataFrame) - DataFrame of preditions along with the confidence in prediction for each contributor\n",
    "    '''\n",
    "    result=pd.DataFrame()\n",
    "    temp_list = []\n",
    "    bimbas = joblib.load('bimbas.joblib')\n",
    "    date_limit = pd.to_datetime(selected_events.created_at.max()) + pd.DateOffset(-90)\n",
    "    \n",
    "    for contributor in tqdm(contributors_list):\n",
    "        # c = contributors[contributor]\n",
    "        activities = gat.activity_identification(selected_events.query('login==@contributor and created_at>=@date_limit'))\n",
    "        activity_features = (\n",
    "                            imf.extract_features(activities)\n",
    "                            .set_index([[contributor]])\n",
    "                            )\n",
    "        # features = pd.concat([features,activity_features])\n",
    "        with warnings.catch_warnings():\n",
    "            warnings.simplefilter(\"ignore\", category=UserWarning)\n",
    "            probability = bimbas.predict_proba(activity_features)[0][1]\n",
    "        if(probability <= 0.5):\n",
    "            contributor_type = 'Human'\n",
    "        else:\n",
    "            contributor_type = 'Bot'\n",
    "        confidence = (abs(probability - 0.5)*2).round(3)\n",
    "    \n",
    "        pred = activity_features.set_index([[contributor]]).assign(\n",
    "            prediction=contributor_type,\n",
    "            confidence = confidence,\n",
    "            )\n",
    "        temp_list.extend([{'contributor':contributor,'bimbas_type':contributor_type,'confidence':confidence}])\n",
    "    \n",
    "    bimbas_prediction = pd.DataFrame.from_dict(temp_list)\n",
    "\n",
    "    return(bimbas_prediction)"
   ]
  },
  {
   "cell_type": "code",
   "execution_count": null,
   "id": "abe1a50e-04a7-48b8-816d-5bf7f5df7738",
   "metadata": {},
   "outputs": [],
   "source": [
    "# Write your code here to call execute_bimbas function. \n",
    "# Pass the contributors list and the filtered events DataFrame as argument to \"execute_bimbas\" function\n",
    "# Prediction returned by BIMBAS will have \"contributor\", \"bimbas_type\" and \"confidence\"\n",
    "# Note: Print the prediction provided by BIMBAS - else this cell will not be graded.\n",
    "\n",
    "# YOUR CODE BELOW\n",
    "bimbas_prediction = execute_bimbas(contributors, events)\n",
    "print(bimbas_prediction)"
   ]
  },
  {
   "cell_type": "markdown",
   "id": "7840554c-ed7e-4bc0-a37a-842c6117441b",
   "metadata": {},
   "source": [
    "### Create a column in your predictions DataFrame to have predictions provided by BIMBAS. \n",
    "### Now your DataFrame should have the following columns - contributor, bothunter_type, app, bimbas_type, confidence "
   ]
  },
  {
   "cell_type": "markdown",
   "id": "62f8a42e-0c0f-499e-bc96-92c13b3debf0",
   "metadata": {},
   "source": [
    "### Merging bothunter and bimbas predictions"
   ]
  },
  {
   "cell_type": "code",
   "execution_count": 39,
   "id": "97f4dd46-d8a8-492b-91d1-5f68d0e88a89",
   "metadata": {},
   "outputs": [
    {
     "name": "stdout",
     "output_type": "stream",
     "text": [
      "                             contributor bothunter_type  user_type  \\\n",
      "0                              AnaGabela          Human      False   \n",
      "1                                 Dr-Irv          Human      False   \n",
      "2                              GPUtester          Human      False   \n",
      "3                            JuliaTagBot            Bot      False   \n",
      "4                              Lilly-May          Human      False   \n",
      "5                           RemieJanssen          Human      False   \n",
      "6                               VectorNd          Human      False   \n",
      "7                            alanlujan91          Human      False   \n",
      "8                              atrisovic          Human      False   \n",
      "9                             bnavigator          Human      False   \n",
      "10                          codecov[bot]            Bot       True   \n",
      "11                      codspeed-hq[bot]            Bot       True   \n",
      "12                          conradsnicta          Human      False   \n",
      "13                       dependabot[bot]            Bot       True   \n",
      "14                            dieghernan          Human      False   \n",
      "15                                fboehm          Human      False   \n",
      "16  galaxyproject-sentryintegration[bot]            Bot       True   \n",
      "17               github-merge-queue[bot]            Bot       True   \n",
      "18                               hajimes          Human      False   \n",
      "19                               ivilata          Human      False   \n",
      "20                               jklymak          Human      False   \n",
      "21                             kaandocal          Human      False   \n",
      "22                          larrybradley          Human      False   \n",
      "23                              marieBvr          Human      False   \n",
      "24                                  mhvk          Human      False   \n",
      "25                               mwtoews          Human      False   \n",
      "26                                omaech          Human      False   \n",
      "27                                  pkgw          Human      False   \n",
      "28                    pre-commit-ci[bot]            Bot       True   \n",
      "29                         renovate[bot]            Bot       True   \n",
      "30                              rodoulak            Bot      False   \n",
      "31                               rouault          Human      False   \n",
      "32                      scikit-learn-bot            Bot      False   \n",
      "33                                 shrit          Human      False   \n",
      "34                            sklearn-ci            Bot      False   \n",
      "35                         stan-buildbot            Bot      False   \n",
      "36                            tardis-bot          Human      False   \n",
      "37                           thomasjpfan          Human      False   \n",
      "38                             westurner          Human      False   \n",
      "39                           zeptodoctor          Human      False   \n",
      "\n",
      "   bimbas_type  confidence  \n",
      "0          Bot       0.861  \n",
      "1        Human       0.865  \n",
      "2          Bot       0.841  \n",
      "3          Bot       0.345  \n",
      "4        Human       0.866  \n",
      "5          Bot       0.740  \n",
      "6        Human       0.946  \n",
      "7        Human       0.817  \n",
      "8          Bot       0.879  \n",
      "9        Human       0.946  \n",
      "10         Bot       0.938  \n",
      "11         Bot       0.916  \n",
      "12       Human       0.881  \n",
      "13         Bot       0.834  \n",
      "14       Human       0.894  \n",
      "15         Bot       0.910  \n",
      "16         Bot       0.526  \n",
      "17         Bot       0.794  \n",
      "18         Bot       0.861  \n",
      "19       Human       0.919  \n",
      "20       Human       0.795  \n",
      "21       Human       0.885  \n",
      "22       Human       0.700  \n",
      "23       Human       0.751  \n",
      "24       Human       0.679  \n",
      "25       Human       0.898  \n",
      "26       Human       0.723  \n",
      "27       Human       0.709  \n",
      "28         Bot       0.936  \n",
      "29         Bot       0.166  \n",
      "30         Bot       0.742  \n",
      "31       Human       0.621  \n",
      "32         Bot       0.714  \n",
      "33       Human       0.902  \n",
      "34         Bot       0.936  \n",
      "35       Human       0.201  \n",
      "36         Bot       0.331  \n",
      "37       Human       0.935  \n",
      "38       Human       0.935  \n",
      "39         Bot       0.937  \n"
     ]
    }
   ],
   "source": [
    "# Merge the predictions provided by BIMBAS to the resultant dataset of Section 3. This final DataFrame should have the following columns - \n",
    "# contributor, bothunter_type, user_type, bimbas_type, and confidence.\n",
    "df2 = pd.merge(df1, bimbas_prediction, on='contributor')\n",
    "print(df2)"
   ]
  },
  {
   "cell_type": "markdown",
   "id": "3ad85279-0ee8-49de-8c5a-bf0850494772",
   "metadata": {},
   "source": [
    "### Question 2\n",
    "#### Using Cohen's Kappa compute and report the interrater agreement score between the labels computed by both the bot identification approaches. Mention your interpretation of Cohen's Kappa"
   ]
  },
  {
   "cell_type": "code",
   "execution_count": null,
   "id": "1040a69f-25cb-467a-9afd-6f32f6ae2a6e",
   "metadata": {},
   "outputs": [],
   "source": [
    "# Hint: use the cohen_kappa_score library\n",
    "# YOUR CODE BELOW\n",
    "# Cohen's Kappa is a statistic used to measure how well two raters agree on a set of data\n",
    "kappa = cohen_kappa_score(df2['bothunter_type'], df2['bimbas_type'])\n",
    "print(kappa)\n",
    "# Here, Cohen's Kappa is around 0.54 which would mean that the agreement between the bothunter_type and bimbas_type is \"moderatly good\""
   ]
  },
  {
   "cell_type": "markdown",
   "id": "a6f38f75-30ec-463f-bc98-89de44a14db4",
   "metadata": {},
   "source": [
    "### Question 3\n",
    "#### Determine the final type of each contributor. Whenever user_type column has the value \"User\" check if both bimbas_type and bothunter_type give the same prediction, then consider it as your final prediction in \"acc_type\" column.\n",
    "#### For the contributors that have different predictions, i.e. bimbas_type is not same as bothunter_type, then make a manual verification and consider that as the type for that contributor. Add an extra column to the DataFrame ﬁle called 'manual' that has the label determined by you. \n",
    "#### For manual verification you can make use the GitHub UI and the GitHub API https://api.github.com/users/username\n",
    "\n",
    "#### Whenever user_type column has the value \"Bot\", directly write your final acc_type as \"Bot Actor\"\n",
    "\n",
    "#### More information:\n",
    "For each contributor, you can look at their activities in GitHub UI, look at their latest events using GitHub Events API - https://api.github.com/users/<contributor>/events, to make a decision on their type.\n",
    "\n",
    "In addition, you can also write a very small reason why do you think they are bot or human (e.g., same activity at regular interval so Bot, files committed and code modified looks like Human, comments look like Human, comment look like Bot, test report looks automated so Bot, and so on....). This will be useful to answer your next question."
   ]
  },
  {
   "cell_type": "code",
   "execution_count": 46,
   "id": "884a7612-7ff7-40a4-805f-113c6f70786b",
   "metadata": {},
   "outputs": [
    {
     "name": "stdout",
     "output_type": "stream",
     "text": [
      "                             contributor bothunter_type  user_type  \\\n",
      "0                              AnaGabela          Human      False   \n",
      "1                                 Dr-Irv          Human      False   \n",
      "2                              GPUtester          Human      False   \n",
      "3                            JuliaTagBot            Bot      False   \n",
      "4                              Lilly-May          Human      False   \n",
      "5                           RemieJanssen          Human      False   \n",
      "6                               VectorNd          Human      False   \n",
      "7                            alanlujan91          Human      False   \n",
      "8                              atrisovic          Human      False   \n",
      "9                             bnavigator          Human      False   \n",
      "10                          codecov[bot]            Bot       True   \n",
      "11                      codspeed-hq[bot]            Bot       True   \n",
      "12                          conradsnicta          Human      False   \n",
      "13                       dependabot[bot]            Bot       True   \n",
      "14                            dieghernan          Human      False   \n",
      "15                                fboehm          Human      False   \n",
      "16  galaxyproject-sentryintegration[bot]            Bot       True   \n",
      "17               github-merge-queue[bot]            Bot       True   \n",
      "18                               hajimes          Human      False   \n",
      "19                               ivilata          Human      False   \n",
      "20                               jklymak          Human      False   \n",
      "21                             kaandocal          Human      False   \n",
      "22                          larrybradley          Human      False   \n",
      "23                              marieBvr          Human      False   \n",
      "24                                  mhvk          Human      False   \n",
      "25                               mwtoews          Human      False   \n",
      "26                                omaech          Human      False   \n",
      "27                                  pkgw          Human      False   \n",
      "28                    pre-commit-ci[bot]            Bot       True   \n",
      "29                         renovate[bot]            Bot       True   \n",
      "30                              rodoulak            Bot      False   \n",
      "31                               rouault          Human      False   \n",
      "32                      scikit-learn-bot            Bot      False   \n",
      "33                                 shrit          Human      False   \n",
      "34                            sklearn-ci            Bot      False   \n",
      "35                         stan-buildbot            Bot      False   \n",
      "36                            tardis-bot          Human      False   \n",
      "37                           thomasjpfan          Human      False   \n",
      "38                             westurner          Human      False   \n",
      "39                           zeptodoctor          Human      False   \n",
      "\n",
      "   bimbas_type  confidence manual  \n",
      "0          Bot       0.861   User  \n",
      "1        Human       0.865   User  \n",
      "2          Bot       0.841    Bot  \n",
      "3          Bot       0.345    Bot  \n",
      "4        Human       0.866   User  \n",
      "5          Bot       0.740   User  \n",
      "6        Human       0.946   User  \n",
      "7        Human       0.817   User  \n",
      "8          Bot       0.879   User  \n",
      "9        Human       0.946   User  \n",
      "10         Bot       0.938    Bot  \n",
      "11         Bot       0.916    Bot  \n",
      "12       Human       0.881   User  \n",
      "13         Bot       0.834    Bot  \n",
      "14       Human       0.894   User  \n",
      "15         Bot       0.910   User  \n",
      "16         Bot       0.526    Bot  \n",
      "17         Bot       0.794    Bot  \n",
      "18         Bot       0.861   User  \n",
      "19       Human       0.919   User  \n",
      "20       Human       0.795   User  \n",
      "21       Human       0.885   User  \n",
      "22       Human       0.700   User  \n",
      "23       Human       0.751   User  \n",
      "24       Human       0.679   User  \n",
      "25       Human       0.898   User  \n",
      "26       Human       0.723   User  \n",
      "27       Human       0.709   User  \n",
      "28         Bot       0.936    Bot  \n",
      "29         Bot       0.166    Bot  \n",
      "30         Bot       0.742   User  \n",
      "31       Human       0.621   User  \n",
      "32         Bot       0.714    Bot  \n",
      "33       Human       0.902   User  \n",
      "34         Bot       0.936    Bot  \n",
      "35       Human       0.201    Bot  \n",
      "36         Bot       0.331    Bot  \n",
      "37       Human       0.935   User  \n",
      "38       Human       0.935   User  \n",
      "39         Bot       0.937   User  \n"
     ]
    }
   ],
   "source": [
    "# Write the code for your manual decision here\n",
    "# example : \n",
    "# manual_list_dict = [{'contributor': '<contributor name>', 'manual': '<your prediction>'}, {....}, {....}, {....}]\n",
    "# pd.DataFrame.from_dict(manual_list_dict)\n",
    "\n",
    "# YOUR CODE BELOW\n",
    "manual_list_dict = [\n",
    "    {'contributor': 'AnaGabela', 'manual': 'Human'},\n",
    "    {'contributor': 'Dr-Irv', 'manual': 'Human'},\n",
    "    {'contributor': 'GPUtester', 'manual': 'Bot'},\n",
    "    {'contributor': 'JuliaTagBot', 'manual': 'Bot'},\n",
    "    {'contributor': 'Lilly-May', 'manual': 'Human'},\n",
    "    {'contributor': 'RemieJanssen', 'manual': 'Human'},\n",
    "    {'contributor': 'VectorNd', 'manual': 'Human'},\n",
    "    {'contributor': 'alanlujan91', 'manual': 'Human'},\n",
    "    {'contributor': 'atrisovic', 'manual': 'Human'},\n",
    "    {'contributor': 'bnavigator', 'manual': 'Human'},\n",
    "    {'contributor': 'codecov[bot]', 'manual': 'Bot'},\n",
    "    {'contributor': 'codspeed-hq[bot]', 'manual': 'Bot'},\n",
    "    {'contributor': 'conradsnicta', 'manual': 'Human'},\n",
    "    {'contributor': 'dependabot[bot]', 'manual': 'Bot'},\n",
    "    {'contributor': 'dieghernan', 'manual': 'Human'},\n",
    "    {'contributor': 'fboehm', 'manual': 'Human'},\n",
    "    {'contributor': 'galaxyproject-sentryintegration[bot]', 'manual': 'Bot'},\n",
    "    {'contributor': 'github-merge-queue[bot]', 'manual': 'Bot'},\n",
    "    {'contributor': 'hajimes', 'manual': 'Human'},\n",
    "    {'contributor': 'ivilata', 'manual': 'Human'},\n",
    "    {'contributor': 'jklymak', 'manual': 'Human'},\n",
    "    {'contributor': 'kaandocal', 'manual': 'Human'},\n",
    "    {'contributor': 'larrybradley', 'manual': 'Human'},\n",
    "    {'contributor': 'marieBvr', 'manual': 'Human'},\n",
    "    {'contributor': 'mhvk', 'manual': 'Human'},\n",
    "    {'contributor': 'mwtoews', 'manual': 'Human'},\n",
    "    {'contributor': 'omaech', 'manual': 'Human'},\n",
    "    {'contributor': 'pkgw', 'manual': 'Human'},\n",
    "    {'contributor': 'pre-commit-ci[bot]', 'manual': 'Bot'},\n",
    "    {'contributor': 'renovate[bot]', 'manual': 'Bot'},\n",
    "    {'contributor': 'rodoulak', 'manual': 'Human'},\n",
    "    {'contributor': 'rouault', 'manual': 'Human'},\n",
    "    {'contributor': 'scikit-learn-bot', 'manual': 'Bot'},\n",
    "    {'contributor': 'shrit', 'manual': 'Human'},\n",
    "    {'contributor': 'sklearn-ci', 'manual': 'Bot'},\n",
    "    {'contributor': 'stan-buildbot', 'manual': 'Bot'},\n",
    "    {'contributor': 'tardis-bot', 'manual': 'Bot'},\n",
    "    {'contributor': 'thomasjpfan', 'manual': 'Human'},\n",
    "    {'contributor': 'westurner', 'manual': 'Human'},\n",
    "    {'contributor': 'zeptodoctor', 'manual': 'Human'}\n",
    "]\n",
    "\n",
    "manual_df = pd.DataFrame.from_dict(manual_list_dict)\n",
    "df3 = pd.merge(df2, manual_df, on='contributor')\n",
    "print(df3)"
   ]
  },
  {
   "cell_type": "code",
   "execution_count": null,
   "id": "93c4ce14-c393-45ba-aba0-bf1ae23d1cca",
   "metadata": {},
   "outputs": [
    {
     "name": "stdout",
     "output_type": "stream",
     "text": [
      "                             contributor bothunter_type  user_type  \\\n",
      "0                              AnaGabela          Human      False   \n",
      "1                                 Dr-Irv          Human      False   \n",
      "2                              GPUtester          Human      False   \n",
      "3                            JuliaTagBot            Bot      False   \n",
      "4                              Lilly-May          Human      False   \n",
      "5                           RemieJanssen          Human      False   \n",
      "6                               VectorNd          Human      False   \n",
      "7                            alanlujan91          Human      False   \n",
      "8                              atrisovic          Human      False   \n",
      "9                             bnavigator          Human      False   \n",
      "10                          codecov[bot]            Bot       True   \n",
      "11                      codspeed-hq[bot]            Bot       True   \n",
      "12                          conradsnicta          Human      False   \n",
      "13                       dependabot[bot]            Bot       True   \n",
      "14                            dieghernan          Human      False   \n",
      "15                                fboehm          Human      False   \n",
      "16  galaxyproject-sentryintegration[bot]            Bot       True   \n",
      "17               github-merge-queue[bot]            Bot       True   \n",
      "18                               hajimes          Human      False   \n",
      "19                               ivilata          Human      False   \n",
      "20                               jklymak          Human      False   \n",
      "21                             kaandocal          Human      False   \n",
      "22                          larrybradley          Human      False   \n",
      "23                              marieBvr          Human      False   \n",
      "24                                  mhvk          Human      False   \n",
      "25                               mwtoews          Human      False   \n",
      "26                                omaech          Human      False   \n",
      "27                                  pkgw          Human      False   \n",
      "28                    pre-commit-ci[bot]            Bot       True   \n",
      "29                         renovate[bot]            Bot       True   \n",
      "30                              rodoulak            Bot      False   \n",
      "31                               rouault          Human      False   \n",
      "32                      scikit-learn-bot            Bot      False   \n",
      "33                                 shrit          Human      False   \n",
      "34                            sklearn-ci            Bot      False   \n",
      "35                         stan-buildbot            Bot      False   \n",
      "36                            tardis-bot          Human      False   \n",
      "37                           thomasjpfan          Human      False   \n",
      "38                             westurner          Human      False   \n",
      "39                           zeptodoctor          Human      False   \n",
      "\n",
      "   bimbas_type  confidence manual acc_type  \n",
      "0          Bot       0.861   User    Human  \n",
      "1        Human       0.865   User    Human  \n",
      "2          Bot       0.841    Bot    Human  \n",
      "3          Bot       0.345    Bot    Human  \n",
      "4        Human       0.866   User    Human  \n",
      "5          Bot       0.740   User    Human  \n",
      "6        Human       0.946   User    Human  \n",
      "7        Human       0.817   User    Human  \n",
      "8          Bot       0.879   User    Human  \n",
      "9        Human       0.946   User    Human  \n",
      "10         Bot       0.938    Bot    Human  \n",
      "11         Bot       0.916    Bot    Human  \n",
      "12       Human       0.881   User    Human  \n",
      "13         Bot       0.834    Bot    Human  \n",
      "14       Human       0.894   User    Human  \n",
      "15         Bot       0.910   User    Human  \n",
      "16         Bot       0.526    Bot    Human  \n",
      "17         Bot       0.794    Bot    Human  \n",
      "18         Bot       0.861   User    Human  \n",
      "19       Human       0.919   User    Human  \n",
      "20       Human       0.795   User    Human  \n",
      "21       Human       0.885   User    Human  \n",
      "22       Human       0.700   User    Human  \n",
      "23       Human       0.751   User    Human  \n",
      "24       Human       0.679   User    Human  \n",
      "25       Human       0.898   User    Human  \n",
      "26       Human       0.723   User    Human  \n",
      "27       Human       0.709   User    Human  \n",
      "28         Bot       0.936    Bot    Human  \n",
      "29         Bot       0.166    Bot    Human  \n",
      "30         Bot       0.742   User    Human  \n",
      "31       Human       0.621   User    Human  \n",
      "32         Bot       0.714    Bot    Human  \n",
      "33       Human       0.902   User    Human  \n",
      "34         Bot       0.936    Bot    Human  \n",
      "35       Human       0.201    Bot    Human  \n",
      "36         Bot       0.331    Bot    Human  \n",
      "37       Human       0.935   User    Human  \n",
      "38       Human       0.935   User    Human  \n",
      "39         Bot       0.937   User    Human  \n"
     ]
    }
   ],
   "source": [
    "# Write your code below here to determine the final type of contributor.\n",
    "# add column named 'acc_type' and write your final decision in it. Final decision is majority of three types - bimbas_type, bothunter_type, manual.\n",
    "\n",
    "# YOUR CODE BELOW\n",
    "df3['acc_type'] = None\n",
    "for i in range(len(df3)):\n",
    "    if df3['user_type'][i]:\n",
    "        df3.loc[i, 'acc_type'] = 'Bot'\n",
    "    \n",
    "    else:\n",
    "        if df3['bothunter_type'][i] == df3['bimbas_type'][i]:\n",
    "            df3.loc[i, 'acc_type'] = 'Human'\n",
    "        else:\n",
    "            df3.loc[i, 'acc_type'] = df3['manual'][i]\n",
    "\n",
    "print(df3)"
   ]
  },
  {
   "cell_type": "markdown",
   "id": "0ec42ed1-0758-4ce4-82cc-542e490626dc",
   "metadata": {},
   "source": [
    "### Question 4\n",
    "#### Study and report the purpose of these identified bots and humans in the repository assigned to you.\n",
    "#### For example, the purpose can be based on but not limited to - \n",
    "##### 1) the type of activities that they are performing (releasing a version on every Sunday, updating the documentation), \n",
    "##### 2) type of comments they are posting (reviewing code, test summary report), \n",
    "##### 3) when are they triggered (when a new PR is created, when someone in the project ask the bot to merge the code) and so on.  \n",
    "#### Note: \n",
    "##### The purpose can be other than what is provided in examples above."
   ]
  },
  {
   "cell_type": "code",
   "execution_count": null,
   "id": "64569eb1-7faa-46e4-bb81-02bb1058b2a7",
   "metadata": {},
   "outputs": [],
   "source": []
  },
  {
   "cell_type": "markdown",
   "id": "88945f23-8222-4925-b6fc-b049b0761a7a",
   "metadata": {},
   "source": [
    "## Section 5"
   ]
  },
  {
   "cell_type": "markdown",
   "id": "6d107b13-0c4f-4a56-a284-596f73a53d2f",
   "metadata": {},
   "source": [
    "### Question 1\n",
    "#### Use the filtered events file that has the events performed by the contributors provided to you\n",
    "#### Group each event into the following four categories\n",
    "\n",
    "Issues: IssueCommentEvent, IssuesEvent  \n",
    "Pull Requests: PullRequestEvent, PullRequestReviewCommentEvent  \n",
    "Commits: CommitCommentEvent, PushEvent  \n",
    "Repository: CreateEvent, DeleteEvent, ForkEvent, GollumEvent, MemberEvent, PublicEvent, ReleaseEvent, SponsorshipEvent, WatchEvent  \n",
    "\n",
    "#### Hint:\n",
    "1. Add a column called event_group that mentions which event group does that event belong to. Each event (row) should correspond to an event group.  \n",
    "2. Then perform groupby on ['login','event_group'],  \n",
    "3. use .agg (https://pandas.pydata.org/pandas-docs/stable/reference/api/pandas.DataFrame.agg.html) to count the number of events performed by each contributor in each group,  \n",
    "4. use pivot with the required arguments (https://pandas.pydata.org/pandas-docs/stable/reference/api/pandas.DataFrame.pivot.html). An example is given [here](#pivot_example) in question 2(b), and\n",
    "5. Reset index and rename axis with None\n",
    "7. Finally merge it with your 'acc_type' field from the DataFrame you created in Section4, drop contributor, and fillna with 0\n",
    "8. The final DataFrame should have the following columns - login, PR, commit, issue, repo, acc_type\n",
    "\n",
    "The final DataFrame should be looking like the following  \n",
    "![](event_group.png)"
   ]
  },
  {
   "cell_type": "code",
   "execution_count": 18,
   "id": "06072cfd-9de7-4e25-a3fa-11296a728484",
   "metadata": {},
   "outputs": [],
   "source": [
    "# In the resultant DataFrame - each row should corespond to a contributor, and the columns should have all the event groups  \n",
    "# and the type of the contributor (that you decided in the previous DataFrame) and the values should be the number \n",
    "# of events of that event event group the contriubutor has performed.\n",
    "\n",
    "issue_group = ['IssueCommentEvent', 'IssuesEvent']\n",
    "pr_group = ['PullRequestEvent', 'PullRequestReviewCommentEvent']\n",
    "commit_group = ['CommitCommentEvent', 'PushEvent']\n",
    "repo_group = ['CreateEvent', 'DeleteEvent', 'ForkEvent', 'GollumEvent', 'MemberEvent', 'PublicEvent', 'ReleaseEvent', 'SponsorshipEvent', 'WatchEvent']"
   ]
  },
  {
   "cell_type": "code",
   "execution_count": null,
   "id": "326eaddf-c6f2-4e7e-a3e1-37183a3c90ca",
   "metadata": {},
   "outputs": [],
   "source": [
    "# YOUR CODE BELOW\n",
    "events['event_group'] = None\n",
    "for i in range(len(events)):\n",
    "    event_type = events.iloc[i]['event_type']\n",
    "    if event_type in issue_group:\n",
    "        events.loc[i, 'event_group'] = 'Issue'\n",
    "    elif event_type in pr_group:\n",
    "        events.loc[i, 'event_group'] = 'PullRequest'\n",
    "    elif event_type in commit_group:\n",
    "        events.loc[i, 'event_group'] = 'Commit'\n",
    "    elif event_type in repo_group:\n",
    "        events.loc[i, 'event_group'] = 'Repository'\n",
    "\n",
    "events = events.groupby(['login', 'event_group'])"
   ]
  },
  {
   "cell_type": "code",
   "execution_count": 69,
   "id": "3b8b35af-92af-4ffd-8d99-2dd34d865ac1",
   "metadata": {},
   "outputs": [
    {
     "name": "stdout",
     "output_type": "stream",
     "text": [
      "                                   login  Commit  Issue  PullRequest  \\\n",
      "0                              AnaGabela     0.0    1.0          0.0   \n",
      "1                                 Dr-Irv     2.0    2.0          0.0   \n",
      "2                            JuliaTagBot     3.0    2.0          3.0   \n",
      "3                           codecov[bot]    11.0   13.0          6.0   \n",
      "4                       codspeed-hq[bot]     1.0    1.0          0.0   \n",
      "5                        dependabot[bot]    18.0   38.0         26.0   \n",
      "6                                 fboehm     2.0    2.0          2.0   \n",
      "7   galaxyproject-sentryintegration[bot]     0.0    1.0          1.0   \n",
      "8                github-merge-queue[bot]     2.0    4.0          0.0   \n",
      "9                                hajimes     0.0    0.0          1.0   \n",
      "10                               jklymak     0.0    2.0          1.0   \n",
      "11                          larrybradley     0.0    1.0          2.0   \n",
      "12                                  mhvk    14.0   25.0         11.0   \n",
      "13                                  pkgw     1.0    1.0          0.0   \n",
      "14                    pre-commit-ci[bot]    50.0   72.0         51.0   \n",
      "15                         renovate[bot]     2.0    1.0          8.0   \n",
      "16                               rouault    10.0    8.0         18.0   \n",
      "17                      scikit-learn-bot     0.0    2.0          0.0   \n",
      "18                                 shrit     4.0   10.0          7.0   \n",
      "19                            sklearn-ci     5.0    2.0          1.0   \n",
      "20                         stan-buildbot     0.0    1.0          1.0   \n",
      "21                            tardis-bot     0.0    1.0          0.0   \n",
      "22                           thomasjpfan     0.0    3.0          1.0   \n",
      "23                           zeptodoctor     0.0    1.0          0.0   \n",
      "\n",
      "    Repository acc_type  \n",
      "0          0.0    Human  \n",
      "1          1.0    Human  \n",
      "2          2.0    Human  \n",
      "3          3.0      Bot  \n",
      "4          0.0      Bot  \n",
      "5          8.0      Bot  \n",
      "6          0.0    Human  \n",
      "7          0.0      Bot  \n",
      "8          2.0      Bot  \n",
      "9          0.0    Human  \n",
      "10         0.0    Human  \n",
      "11         0.0    Human  \n",
      "12         3.0    Human  \n",
      "13         0.0    Human  \n",
      "14        20.0      Bot  \n",
      "15         5.0      Bot  \n",
      "16        12.0    Human  \n",
      "17         2.0    Human  \n",
      "18         2.0    Human  \n",
      "19         2.0    Human  \n",
      "20         1.0      Bot  \n",
      "21         1.0      Bot  \n",
      "22         0.0    Human  \n",
      "23         2.0    Human  \n"
     ]
    }
   ],
   "source": [
    "# YOUR CODE BELOW\n",
    "grouped_events = events.groupby(['login', 'event_group']).size().reset_index(name='count')\n",
    "pivot_events = grouped_events.pivot(index='login', columns='event_group', values='count').fillna(0).reset_index()\n",
    "pivot_events.columns.name = None\n",
    "final_events = pd.merge(pivot_events, df3[['contributor', 'acc_type']], left_on='login', right_on='contributor').drop('contributor', axis=1)\n",
    "print(final_events)\n"
   ]
  },
  {
   "cell_type": "markdown",
   "id": "afca3310-5bef-48f5-be38-e0861d5c43b6",
   "metadata": {},
   "source": [
    "### Question 2 (a)\n",
    "\n",
    "#### Compute the median number of events per event group for Bot+Bot actors and Humans and write in DataFrame.\n",
    "\n",
    "Row should correspond to type (Bot_BotActor and Human), Column should have Event group name and the values should be the median value of Bot_BotActor or Human for that particular event group. An example is given below"
   ]
  },
  {
   "cell_type": "code",
   "execution_count": 15,
   "id": "ef89644a-1f38-4e67-81ab-c54db8d6c0ad",
   "metadata": {},
   "outputs": [
    {
     "data": {
      "text/html": [
       "<div>\n",
       "<style scoped>\n",
       "    .dataframe tbody tr th:only-of-type {\n",
       "        vertical-align: middle;\n",
       "    }\n",
       "\n",
       "    .dataframe tbody tr th {\n",
       "        vertical-align: top;\n",
       "    }\n",
       "\n",
       "    .dataframe thead th {\n",
       "        text-align: right;\n",
       "    }\n",
       "</style>\n",
       "<table border=\"1\" class=\"dataframe\">\n",
       "  <thead>\n",
       "    <tr style=\"text-align: right;\">\n",
       "      <th></th>\n",
       "      <th>event_group</th>\n",
       "      <th>median</th>\n",
       "      <th>acc_type</th>\n",
       "    </tr>\n",
       "  </thead>\n",
       "  <tbody>\n",
       "    <tr>\n",
       "      <th>0</th>\n",
       "      <td>event_group1</td>\n",
       "      <td>val1</td>\n",
       "      <td>Bot_app</td>\n",
       "    </tr>\n",
       "    <tr>\n",
       "      <th>1</th>\n",
       "      <td>event_group1</td>\n",
       "      <td>val2</td>\n",
       "      <td>Human</td>\n",
       "    </tr>\n",
       "    <tr>\n",
       "      <th>2</th>\n",
       "      <td>event_group2</td>\n",
       "      <td>val3</td>\n",
       "      <td>Bot_app</td>\n",
       "    </tr>\n",
       "    <tr>\n",
       "      <th>3</th>\n",
       "      <td>event_group2</td>\n",
       "      <td>val4</td>\n",
       "      <td>Human</td>\n",
       "    </tr>\n",
       "    <tr>\n",
       "      <th>4</th>\n",
       "      <td>event_group3</td>\n",
       "      <td>val5</td>\n",
       "      <td>Bot_app</td>\n",
       "    </tr>\n",
       "    <tr>\n",
       "      <th>5</th>\n",
       "      <td>event_group3</td>\n",
       "      <td>val6</td>\n",
       "      <td>Human</td>\n",
       "    </tr>\n",
       "    <tr>\n",
       "      <th>6</th>\n",
       "      <td>event_group4</td>\n",
       "      <td>val7</td>\n",
       "      <td>Bot_app</td>\n",
       "    </tr>\n",
       "    <tr>\n",
       "      <th>7</th>\n",
       "      <td>event_group5</td>\n",
       "      <td>val8</td>\n",
       "      <td>Human</td>\n",
       "    </tr>\n",
       "  </tbody>\n",
       "</table>\n",
       "</div>"
      ],
      "text/plain": [
       "    event_group median acc_type\n",
       "0  event_group1   val1  Bot_app\n",
       "1  event_group1   val2    Human\n",
       "2  event_group2   val3  Bot_app\n",
       "3  event_group2   val4    Human\n",
       "4  event_group3   val5  Bot_app\n",
       "5  event_group3   val6    Human\n",
       "6  event_group4   val7  Bot_app\n",
       "7  event_group5   val8    Human"
      ]
     },
     "execution_count": 15,
     "metadata": {},
     "output_type": "execute_result"
    }
   ],
   "source": [
    "# For example:\n",
    "medians = [{'event_group': 'event_group1', 'median': 'val1', 'acc_type': 'Bot_app'}, \n",
    "           {'event_group': 'event_group1', 'median': 'val2', 'acc_type': 'Human'},\n",
    "           {'event_group': 'event_group2', 'median': 'val3', 'acc_type': 'Bot_app'},\n",
    "           {'event_group': 'event_group2', 'median': 'val4', 'acc_type': 'Human'},\n",
    "           {'event_group': 'event_group3', 'median': 'val5', 'acc_type': 'Bot_app'},\n",
    "           {'event_group': 'event_group3', 'median': 'val6', 'acc_type': 'Human'},\n",
    "           {'event_group': 'event_group4', 'median': 'val7', 'acc_type': 'Bot_app'},\n",
    "           {'event_group': 'event_group5', 'median': 'val8', 'acc_type': 'Human'}]\n",
    "df_medians = pd.DataFrame.from_dict(medians)\n",
    "df_medians"
   ]
  },
  {
   "cell_type": "code",
   "execution_count": 74,
   "id": "1c3dc1ce-f19c-44b7-8fa1-35df0ffaa936",
   "metadata": {},
   "outputs": [
    {
     "name": "stdout",
     "output_type": "stream",
     "text": [
      "{'Bot': 2.0, 'Human': 1.0}\n",
      "{'Bot': 1.0, 'Human': 2.0}\n",
      "{'Bot': 1.0, 'Human': 1.0}\n",
      "{'Bot': 2.0, 'Human': 1.0}\n",
      "   event_group  median acc_type\n",
      "0       Commit     2.0      Bot\n",
      "1       Commit     1.0    Human\n",
      "2        Issue     1.0      Bot\n",
      "3        Issue     2.0    Human\n",
      "4  PullRequest     1.0      Bot\n",
      "5  PullRequest     1.0    Human\n",
      "6   Repository     2.0      Bot\n",
      "7   Repository     1.0    Human\n"
     ]
    }
   ],
   "source": [
    "# YOUR CODE BELOW\n",
    "medians = []\n",
    "for group in final_events.columns[1:-1]:\n",
    "    median = final_events.groupby('acc_type')[group].median().to_dict()\n",
    "    print(median)\n",
    "    for key in median:\n",
    "        medians.append({'event_group': group, 'median': median[key], 'acc_type': key})\n",
    "\n",
    "my_df_medians = pd.DataFrame.from_dict(medians)\n",
    "print(my_df_medians)"
   ]
  },
  {
   "cell_type": "markdown",
   "id": "8eafa8a6-3c98-41db-bebd-64adc634f77f",
   "metadata": {},
   "source": [
    "### Question 2 (b)\n",
    "\n",
    "Plot a heatmap of the DataFrame using seaborn - \n",
    "1. First convert the dataframe to the required format using pivot, example is given below\n",
    "2. plot using seaborn - sns.heatmap(df_medians, annot=True, vmin=0, vmax=300, cmap=\"crest\"). More details: https://seaborn.pydata.org/generated/seaborn.heatmap.html)"
   ]
  },
  {
   "cell_type": "markdown",
   "id": "2bd13bb8-628d-444e-b4a2-9887378a9cef",
   "metadata": {},
   "source": [
    "#### pd.pivot example:\n",
    "<a id='pivot_example'></a>"
   ]
  },
  {
   "cell_type": "code",
   "execution_count": 17,
   "id": "3fbf8d1e-86ba-4b86-8bfc-d1bba83c63a8",
   "metadata": {},
   "outputs": [
    {
     "data": {
      "text/html": [
       "<div>\n",
       "<style scoped>\n",
       "    .dataframe tbody tr th:only-of-type {\n",
       "        vertical-align: middle;\n",
       "    }\n",
       "\n",
       "    .dataframe tbody tr th {\n",
       "        vertical-align: top;\n",
       "    }\n",
       "\n",
       "    .dataframe thead th {\n",
       "        text-align: right;\n",
       "    }\n",
       "</style>\n",
       "<table border=\"1\" class=\"dataframe\">\n",
       "  <thead>\n",
       "    <tr style=\"text-align: right;\">\n",
       "      <th></th>\n",
       "      <th>event_group</th>\n",
       "      <th>median</th>\n",
       "      <th>acc_type</th>\n",
       "    </tr>\n",
       "  </thead>\n",
       "  <tbody>\n",
       "    <tr>\n",
       "      <th>0</th>\n",
       "      <td>event_group1</td>\n",
       "      <td>val1</td>\n",
       "      <td>Bot</td>\n",
       "    </tr>\n",
       "    <tr>\n",
       "      <th>1</th>\n",
       "      <td>event_group1</td>\n",
       "      <td>val2</td>\n",
       "      <td>Human</td>\n",
       "    </tr>\n",
       "    <tr>\n",
       "      <th>2</th>\n",
       "      <td>event_group2</td>\n",
       "      <td>val3</td>\n",
       "      <td>Bot</td>\n",
       "    </tr>\n",
       "    <tr>\n",
       "      <th>3</th>\n",
       "      <td>event_group2</td>\n",
       "      <td>val4</td>\n",
       "      <td>Human</td>\n",
       "    </tr>\n",
       "    <tr>\n",
       "      <th>4</th>\n",
       "      <td>event_group3</td>\n",
       "      <td>val5</td>\n",
       "      <td>Bot</td>\n",
       "    </tr>\n",
       "    <tr>\n",
       "      <th>5</th>\n",
       "      <td>event_group3</td>\n",
       "      <td>val6</td>\n",
       "      <td>Human</td>\n",
       "    </tr>\n",
       "    <tr>\n",
       "      <th>6</th>\n",
       "      <td>event_group4</td>\n",
       "      <td>val7</td>\n",
       "      <td>Bot</td>\n",
       "    </tr>\n",
       "    <tr>\n",
       "      <th>7</th>\n",
       "      <td>event_group5</td>\n",
       "      <td>val8</td>\n",
       "      <td>Human</td>\n",
       "    </tr>\n",
       "  </tbody>\n",
       "</table>\n",
       "</div>"
      ],
      "text/plain": [
       "    event_group median acc_type\n",
       "0  event_group1   val1      Bot\n",
       "1  event_group1   val2    Human\n",
       "2  event_group2   val3      Bot\n",
       "3  event_group2   val4    Human\n",
       "4  event_group3   val5      Bot\n",
       "5  event_group3   val6    Human\n",
       "6  event_group4   val7      Bot\n",
       "7  event_group5   val8    Human"
      ]
     },
     "execution_count": 17,
     "metadata": {},
     "output_type": "execute_result"
    }
   ],
   "source": [
    "# Main DataFrame\n",
    "medians = [{'event_group': 'event_group1', 'median': 'val1', 'acc_type': 'Bot'}, \n",
    "           {'event_group': 'event_group1', 'median': 'val2', 'acc_type': 'Human'},\n",
    "           {'event_group': 'event_group2', 'median': 'val3', 'acc_type': 'Bot'},\n",
    "           {'event_group': 'event_group2', 'median': 'val4', 'acc_type': 'Human'},\n",
    "           {'event_group': 'event_group3', 'median': 'val5', 'acc_type': 'Bot'},\n",
    "           {'event_group': 'event_group3', 'median': 'val6', 'acc_type': 'Human'},\n",
    "           {'event_group': 'event_group4', 'median': 'val7', 'acc_type': 'Bot'},\n",
    "           {'event_group': 'event_group5', 'median': 'val8', 'acc_type': 'Human'}]\n",
    "df_medians = pd.DataFrame.from_dict(medians)\n",
    "df_medians"
   ]
  },
  {
   "cell_type": "code",
   "execution_count": 18,
   "id": "816f28a7-c281-4808-b987-5d74a1c08271",
   "metadata": {},
   "outputs": [
    {
     "data": {
      "text/html": [
       "<div>\n",
       "<style scoped>\n",
       "    .dataframe tbody tr th:only-of-type {\n",
       "        vertical-align: middle;\n",
       "    }\n",
       "\n",
       "    .dataframe tbody tr th {\n",
       "        vertical-align: top;\n",
       "    }\n",
       "\n",
       "    .dataframe thead th {\n",
       "        text-align: right;\n",
       "    }\n",
       "</style>\n",
       "<table border=\"1\" class=\"dataframe\">\n",
       "  <thead>\n",
       "    <tr style=\"text-align: right;\">\n",
       "      <th>event_group</th>\n",
       "      <th>event_group1</th>\n",
       "      <th>event_group2</th>\n",
       "      <th>event_group3</th>\n",
       "      <th>event_group4</th>\n",
       "      <th>event_group5</th>\n",
       "    </tr>\n",
       "    <tr>\n",
       "      <th>acc_type</th>\n",
       "      <th></th>\n",
       "      <th></th>\n",
       "      <th></th>\n",
       "      <th></th>\n",
       "      <th></th>\n",
       "    </tr>\n",
       "  </thead>\n",
       "  <tbody>\n",
       "    <tr>\n",
       "      <th>Bot</th>\n",
       "      <td>val1</td>\n",
       "      <td>val3</td>\n",
       "      <td>val5</td>\n",
       "      <td>val7</td>\n",
       "      <td>NaN</td>\n",
       "    </tr>\n",
       "    <tr>\n",
       "      <th>Human</th>\n",
       "      <td>val2</td>\n",
       "      <td>val4</td>\n",
       "      <td>val6</td>\n",
       "      <td>NaN</td>\n",
       "      <td>val8</td>\n",
       "    </tr>\n",
       "  </tbody>\n",
       "</table>\n",
       "</div>"
      ],
      "text/plain": [
       "event_group event_group1 event_group2 event_group3 event_group4 event_group5\n",
       "acc_type                                                                    \n",
       "Bot                 val1         val3         val5         val7          NaN\n",
       "Human               val2         val4         val6          NaN         val8"
      ]
     },
     "execution_count": 18,
     "metadata": {},
     "output_type": "execute_result"
    }
   ],
   "source": [
    "# pivot the main DataFrame\n",
    "df_medians.pivot(index='acc_type', columns='event_group', values='median')#.reset_index().rename_axis(None,axis=1)"
   ]
  },
  {
   "cell_type": "code",
   "execution_count": 100,
   "id": "24478c26-f367-4589-85dc-3cfa22614f3e",
   "metadata": {},
   "outputs": [
    {
     "name": "stdout",
     "output_type": "stream",
     "text": [
      "event_group  Commit  Issue  PullRequest  Repository\n",
      "acc_type                                           \n",
      "Bot             2.0    1.0          1.0         2.0\n",
      "Human           1.0    2.0          1.0         1.0\n"
     ]
    }
   ],
   "source": [
    "# YOUR CODE BELOW\n",
    "final_pivot = my_df_medians.pivot(index='acc_type', columns='event_group', values='median')\n",
    "print(final_pivot)"
   ]
  },
  {
   "cell_type": "code",
   "execution_count": 101,
   "id": "ab7b9ff6-1286-4c5b-a604-5459b6d2b099",
   "metadata": {},
   "outputs": [
    {
     "data": {
      "text/plain": [
       "<Axes: xlabel='event_group', ylabel='acc_type'>"
      ]
     },
     "execution_count": 101,
     "metadata": {},
     "output_type": "execute_result"
    },
    {
     "data": {
      "image/png": "[encoded data removed]",
      "text/plain": [
       "<Figure size 640x480 with 2 Axes>"
      ]
     },
     "metadata": {},
     "output_type": "display_data"
    }
   ],
   "source": [
    "# YOUR CODE BELOW\n",
    "sns.heatmap(final_pivot, annot=True, vmin=0, vmax=300, cmap='crest')"
   ]
  },
  {
   "cell_type": "markdown",
   "id": "19d518fd-10f0-4f91-a38e-595fe89f36a2",
   "metadata": {},
   "source": [
    "#### What is the difference that you observe between Bots+Bot actors and Humans?"
   ]
  },
  {
   "cell_type": "code",
   "execution_count": null,
   "id": "df3a1600-7110-4866-9de3-42b85b407722",
   "metadata": {},
   "outputs": [],
   "source": [
    "# Not that much of a difference"
   ]
  },
  {
   "cell_type": "markdown",
   "id": "1bbc377f-79bb-4b52-9bba-fe7cc4a804ab",
   "metadata": {},
   "source": [
    "#### What is the differnce that you observe between Event groups?"
   ]
  },
  {
   "cell_type": "code",
   "execution_count": null,
   "id": "064cc1a2-c910-47a8-b327-deba02a815a1",
   "metadata": {},
   "outputs": [],
   "source": [
    "# Not very different either"
   ]
  },
  {
   "cell_type": "markdown",
   "id": "5e941d75-0450-46f4-9345-d7f109ff9b92",
   "metadata": {},
   "source": [
    "#### What is the difference that you observe between Bots+Bot actors and Humans and Event groups all considering at the same time?"
   ]
  },
  {
   "cell_type": "code",
   "execution_count": null,
   "id": "7145cbf9-e9a6-4798-aa23-54428bc7f73b",
   "metadata": {},
   "outputs": [],
   "source": [
    "# The median iss pretty much the same"
   ]
  },
  {
   "cell_type": "markdown",
   "id": "5c402f2c-2628-4957-ac76-e48bb85564cf",
   "metadata": {},
   "source": [
    "### Question 3"
   ]
  },
  {
   "cell_type": "markdown",
   "id": "b7fd623c-4bc5-4cef-9649-fb8cdd41e981",
   "metadata": {},
   "source": [
    "#### Create boxen plots to visualise the distribution of number of events in each event group. \n",
    "#### For more information you can visit - https://seaborn.pydata.org/generated/seaborn.boxenplot.html#seaborn.boxenplot \n",
    "#### You should highlight the data points that correspond to bots using a stripplot in seaborn. https://seaborn.pydata.org/tutorial/categorical.html#categorical-tutorial  \n",
    "#### Interpret the results of the visualisation."
   ]
  },
  {
   "cell_type": "code",
   "execution_count": null,
   "id": "21a499ac-e0c7-4b0d-9f90-78b704a13ef2",
   "metadata": {},
   "outputs": [],
   "source": [
    "# YOUR CODE BELOW - Visualize number of events from pull request event group\n",
    "df_pr = final_events[['login', 'PullRequest', 'acc_type']]\n",
    "df_pr_count = df_pr.groupby('login').agg({'PullRequest': 'sum', 'acc_type': 'first'}).reset_index()\n",
    "plt.figure(figsize=(8, 6))\n",
    "sns.boxenplot(x='acc_type', y='PullRequest', data=df_pr_count)\n",
    "plt.xticks(rotation=90)\n",
    "plt.xlabel(\"User Type\")\n",
    "plt.ylabel(\"Number of Pull Requests\")\n",
    "plt.title(\"Distribution of Number of Pull Requests\")\n",
    "plt.show()"
   ]
  },
  {
   "cell_type": "code",
   "execution_count": null,
   "id": "330c9d73-28a9-4d83-9728-cf595374235b",
   "metadata": {},
   "outputs": [],
   "source": [
    "# YOUR CODE BELOW - Visualise number of events from issue event group\n",
    "df_issue = final_events[['login', 'Issue', 'acc_type']]\n",
    "df_issue_count = df_issue.groupby('login').agg({'Issue': 'sum', 'acc_type': 'first'}).reset_index()\n",
    "plt.figure(figsize=(8, 6))\n",
    "sns.boxenplot(x='acc_type', y='Issue', data=df_issue_count)\n",
    "plt.xticks(rotation=90)\n",
    "plt.xlabel(\"User Type\")\n",
    "plt.ylabel(\"Number of Issues\")\n",
    "plt.title(\"Distribution of Number of Issues\")\n",
    "plt.show()"
   ]
  },
  {
   "cell_type": "code",
   "execution_count": null,
   "id": "a7ec1644-8c4d-4bd8-b504-3196ddab982e",
   "metadata": {},
   "outputs": [],
   "source": [
    "# YOUR CODE BELOW - Visualise number of events from commit event group\n",
    "df_commit = final_events[['login', 'Commit', 'acc_type']]\n",
    "df_commit_count = df_commit.groupby('login').agg({'Commit': 'sum', 'acc_type': 'first'}).reset_index()\n",
    "plt.figure(figsize=(8, 6))\n",
    "sns.boxenplot(x='acc_type', y='Commit', data=df_commit_count)\n",
    "plt.xticks(rotation=90)\n",
    "plt.xlabel(\"User Type\")\n",
    "plt.ylabel(\"Number of Commits\")\n",
    "plt.title(\"Distribution of Number of Commits\")\n",
    "plt.show()\n"
   ]
  },
  {
   "cell_type": "code",
   "execution_count": null,
   "id": "d1c2536a-0f6c-4f2e-a8a5-b07e8abf5217",
   "metadata": {},
   "outputs": [],
   "source": [
    "# YOUR CODE BELOW - Visualise number of events from repo event group\n",
    "df_repo = final_events[['login', 'Repository', 'acc_type']]\n",
    "df_repo_count = df_repo.groupby('login').agg({'Repository': 'sum', 'acc_type': 'first'}).reset_index()\n",
    "plt.figure(figsize=(8, 6))\n",
    "sns.boxenplot(x='acc_type', y='Repository', data=df_repo_count)\n",
    "plt.xticks(rotation=90)\n",
    "plt.xlabel(\"User Type\")\n",
    "plt.ylabel(\"Number of Repository Events\")\n",
    "plt.title(\"Distribution of Number of Repository Events\")\n",
    "plt.show()"
   ]
  },
  {
   "cell_type": "markdown",
   "id": "a663a24f-ebbd-4707-a8e2-c4a72a9451a7",
   "metadata": {},
   "source": [
    "### Question 4.1"
   ]
  },
  {
   "cell_type": "markdown",
   "id": "ea2541bc-5f3a-4ce3-bfb1-21e16104b4c5",
   "metadata": {},
   "source": [
    "#### Statistical identify whether number of events in each event group is normally distributed or not.\n",
    "#### Null hypothesis - $H_0$: Sample comes from the data that has normal distribution.\n",
    "#### Use Shapiro-Wilk test for this purpose. Use the p-value with a threshold of 0.05 to determine whether $H_0$ can be rejected with statistical significance or not. \n",
    "\n",
    "#### Use shapiro from scipy.stats to perform this test (https://docs.scipy.org/doc/scipy/reference/generated/scipy.stats.shapiro.html)"
   ]
  },
  {
   "cell_type": "code",
   "execution_count": 92,
   "id": "d4273e9c-f29f-4b46-ab75-3ceb16a2aae6",
   "metadata": {},
   "outputs": [
    {
     "name": "stdout",
     "output_type": "stream",
     "text": [
      "             Statistic       p_value\n",
      "PullRequest   0.562051  2.393335e-07\n",
      "Issue         0.513964  7.725926e-08\n",
      "Commit        0.531897  1.167713e-07\n",
      "Repository    0.617618  9.774979e-07\n"
     ]
    }
   ],
   "source": [
    "# YOUR CODE BELOW\n",
    "shapiro_results = {}\n",
    "for event in ['PullRequest', 'Issue', 'Commit', 'Repository']:\n",
    "    event_counts = final_events[event].dropna()\n",
    "    stat, p_value = shapiro(event_counts)\n",
    "    shapiro_results[event] = {'Statistic': stat, 'p_value': 'Normal?' if p_value > 0.05 else 'Not Normal'}\n",
    "\n",
    "df_shapiro = pd.DataFrame.from_dict(shapiro_results, orient='index')\n",
    "print(df_shapiro)"
   ]
  },
  {
   "cell_type": "code",
   "execution_count": null,
   "id": "03c8617f-a3ed-40ad-8b2f-7ff0a41c3518",
   "metadata": {},
   "outputs": [],
   "source": []
  },
  {
   "cell_type": "markdown",
   "id": "e7ed78ce-6901-4ddb-a219-d5a8c4e26886",
   "metadata": {},
   "source": [
    "### Question 4.2\n",
    "#### Determine if there is any statistical diﬀerence in number of events between the identified event groups. Perform this test on all pairs of event groups. \n",
    "#### Null hypothesis - $H_0$: Any two event group come from the same population.\n",
    "#### If $H_0$ is rejected in Shapiro-Wilk test (at least for one of the two event groups considered for test), use the Mann-Whitney U statistical test for this purpose. If $H_0$ is not rejected in Shapiro-Wilk test, use the independent t-test for this purpose.  \n",
    "#### In any case, use the p-value with a threshold of 0.01 to determine whether $H_0$ can be rejected with statistical significance. \n",
    "\n",
    "#### Use mannwhitneyu from scipy.stats to perform Mann-Whitney U test (https://docs.scipy.org/doc/scipy/reference/generated/scipy.stats.mannwhitneyu.html) \n",
    "#### or \n",
    "#### ttest_ind from scipy.stats to perform independent t-test https://docs.scipy.org/doc/scipy/reference/generated/scipy.stats.ttest_ind.html."
   ]
  },
  {
   "cell_type": "markdown",
   "id": "3d3fe255-f6a8-4c49-92aa-1859c98d51c1",
   "metadata": {},
   "source": [
    "#### More information:\n",
    "\n",
    "You can pass the following arguments to mannwhitneyu from scipy.stats - (method='exact', nan_policy='omit'). For ttest_ind you can use - (nan_policy='omit')"
   ]
  },
  {
   "cell_type": "code",
   "execution_count": 99,
   "id": "7e7c952f-15a8-4634-b786-90ff1e8f20da",
   "metadata": {},
   "outputs": [
    {
     "name": "stdout",
     "output_type": "stream",
     "text": [
      "       Group 1     Group 2       Test Used  Statistic   P-value  \\\n",
      "0  PullRequest       Issue  Mann-Whitney U      220.0  0.165425   \n",
      "1  PullRequest      Commit  Mann-Whitney U      297.5  0.862161   \n",
      "2  PullRequest  Repository  Mann-Whitney U      304.5  0.751487   \n",
      "3        Issue      Commit  Mann-Whitney U      351.5  0.199430   \n",
      "4        Issue  Repository  Mann-Whitney U      366.5  0.110554   \n",
      "5       Commit  Repository  Mann-Whitney U      299.5  0.830167   \n",
      "\n",
      "          Hypothesis  \n",
      "0  Fail to reject H0  \n",
      "1  Fail to reject H0  \n",
      "2  Fail to reject H0  \n",
      "3  Fail to reject H0  \n",
      "4  Fail to reject H0  \n",
      "5  Fail to reject H0  \n"
     ]
    }
   ],
   "source": [
    "# YOUR CODE BELOW\n",
    "event_groups = ['PullRequest', 'Issue', 'Commit', 'Repository']\n",
    "results = []\n",
    "\n",
    "for i in range(len(event_groups)):\n",
    "    for j in range(i + 1, len(event_groups)):\n",
    "        group1 = event_groups[i]\n",
    "        group2 = event_groups[j]\n",
    "\n",
    "        # Shapiro-Wilk test\n",
    "        stat1, p1 = shapiro(final_events[group1])\n",
    "        stat2, p2 = shapiro(final_events[group2])\n",
    "\n",
    "        # Test selection\n",
    "        if p1 < 0.05 or p2 < 0.05:\n",
    "            # Mann-Whitney U test\n",
    "            stat, p = mannwhitneyu(final_events[group1], final_events[group2], method='exact', nan_policy='omit')\n",
    "            test_name = 'Mann-Whitney U'\n",
    "        else:\n",
    "            # Independent t-test\n",
    "            stat, p = ttest_ind(final_events[group1], final_events[group2], nan_policy='omit')\n",
    "            test_name = 'Independent t-test'\n",
    "\n",
    "        # Result interpretation\n",
    "        reject_h0 = \"Reject H0\" if p < 0.01 else \"Fail to reject H0\"\n",
    "\n",
    "        results.append([group1, group2, test_name, stat, p, reject_h0])\n",
    "\n",
    "# Create DataFrame for results\n",
    "results_df = pd.DataFrame(results, columns=['Group 1', 'Group 2', 'Test Used', 'Statistic', 'P-value', 'Hypothesis'])\n",
    "print(results_df)"
   ]
  },
  {
   "cell_type": "markdown",
   "id": "f443dbbc-a8f1-4281-aadb-8ec8f9c792da",
   "metadata": {},
   "source": [
    "### Question 4.3\n",
    "#### Each time you reject the null hypothesis $H_0$, quantify the effect size of the diﬀerence between the groups using cliﬀ’s delta ($\\delta$). \n",
    "#### To calculate cliﬀ’s delta, you can pass the list of values to cliﬀ delta.py file given in the repository. E.g., cliffsDelta.cliffsDelta(list of values, list of values). This will return the effect size.\n",
    "#### Refer to the table given in the TP document and mention your interpretation (negligible, small, medium, large)."
   ]
  },
  {
   "cell_type": "code",
   "execution_count": 97,
   "id": "c19a6054-933f-425b-971e-d54a429c901d",
   "metadata": {},
   "outputs": [
    {
     "data": {
      "text/html": [
       "<div>\n",
       "<style scoped>\n",
       "    .dataframe tbody tr th:only-of-type {\n",
       "        vertical-align: middle;\n",
       "    }\n",
       "\n",
       "    .dataframe tbody tr th {\n",
       "        vertical-align: top;\n",
       "    }\n",
       "\n",
       "    .dataframe thead th {\n",
       "        text-align: right;\n",
       "    }\n",
       "</style>\n",
       "<table border=\"1\" class=\"dataframe\">\n",
       "  <thead>\n",
       "    <tr style=\"text-align: right;\">\n",
       "      <th></th>\n",
       "      <th>Group 1</th>\n",
       "      <th>Group 2</th>\n",
       "      <th>Cliff's Delta</th>\n",
       "      <th>Interpretation</th>\n",
       "    </tr>\n",
       "  </thead>\n",
       "  <tbody>\n",
       "    <tr>\n",
       "      <th>0</th>\n",
       "      <td>PullRequest</td>\n",
       "      <td>Issue</td>\n",
       "      <td>N/A</td>\n",
       "      <td>N/A</td>\n",
       "    </tr>\n",
       "    <tr>\n",
       "      <th>1</th>\n",
       "      <td>PullRequest</td>\n",
       "      <td>Commit</td>\n",
       "      <td>N/A</td>\n",
       "      <td>N/A</td>\n",
       "    </tr>\n",
       "    <tr>\n",
       "      <th>2</th>\n",
       "      <td>PullRequest</td>\n",
       "      <td>Repository</td>\n",
       "      <td>N/A</td>\n",
       "      <td>N/A</td>\n",
       "    </tr>\n",
       "    <tr>\n",
       "      <th>3</th>\n",
       "      <td>Issue</td>\n",
       "      <td>Commit</td>\n",
       "      <td>N/A</td>\n",
       "      <td>N/A</td>\n",
       "    </tr>\n",
       "    <tr>\n",
       "      <th>4</th>\n",
       "      <td>Issue</td>\n",
       "      <td>Repository</td>\n",
       "      <td>N/A</td>\n",
       "      <td>N/A</td>\n",
       "    </tr>\n",
       "    <tr>\n",
       "      <th>5</th>\n",
       "      <td>Commit</td>\n",
       "      <td>Repository</td>\n",
       "      <td>N/A</td>\n",
       "      <td>N/A</td>\n",
       "    </tr>\n",
       "  </tbody>\n",
       "</table>\n",
       "</div>"
      ],
      "text/plain": [
       "       Group 1     Group 2 Cliff's Delta Interpretation\n",
       "0  PullRequest       Issue           N/A            N/A\n",
       "1  PullRequest      Commit           N/A            N/A\n",
       "2  PullRequest  Repository           N/A            N/A\n",
       "3        Issue      Commit           N/A            N/A\n",
       "4        Issue  Repository           N/A            N/A\n",
       "5       Commit  Repository           N/A            N/A"
      ]
     },
     "execution_count": 97,
     "metadata": {},
     "output_type": "execute_result"
    }
   ],
   "source": [
    "effect_sizes = []\n",
    "for index, row in results_df.iterrows():\n",
    "    if row['Hypothesis'] == 'Reject H0':\n",
    "        group1_values = final_events[row['Group 1']].dropna().tolist()\n",
    "        group2_values = final_events[row['Group 2']].dropna().tolist()\n",
    "        delta = cd.cliffsDelta(group1_values, group2_values)\n",
    "\n",
    "        # Interpret effect size based on the table in your TP document\n",
    "        if delta < 0.147:\n",
    "          interpretation = 'negligible'\n",
    "        elif delta < 0.33:\n",
    "          interpretation = 'small'\n",
    "        elif delta < 0.474:\n",
    "          interpretation = 'medium'\n",
    "        else:\n",
    "          interpretation = 'large'\n",
    "\n",
    "        effect_sizes.append([row['Group 1'], row['Group 2'], delta, interpretation])\n",
    "    else:\n",
    "        effect_sizes.append([row['Group 1'], row['Group 2'], 'N/A', 'N/A'])\n",
    "\n",
    "effect_sizes_df = pd.DataFrame(effect_sizes, columns=['Group 1', 'Group 2', \"Cliff's Delta\", 'Interpretation'])\n",
    "effect_sizes_df"
   ]
  },
  {
   "cell_type": "code",
   "execution_count": null,
   "id": "b317fab1-5f0e-463f-b2d4-18a2754dee48",
   "metadata": {},
   "outputs": [],
   "source": []
  },
  {
   "cell_type": "code",
   "execution_count": null,
   "id": "114c5872-7d00-4265-9f1b-122d59771226",
   "metadata": {},
   "outputs": [],
   "source": []
  }
 ],
 "metadata": {
  "kernelspec": {
   "display_name": "Python 3 (ipykernel)",
   "language": "python",
   "name": "python3"
  },
  "language_info": {
   "codemirror_mode": {
    "name": "ipython",
    "version": 3
   },
   "file_extension": ".py",
   "mimetype": "text/x-python",
   "name": "python",
   "nbconvert_exporter": "python",
   "pygments_lexer": "ipython3",
   "version": "3.11.2"
  }
 },
 "nbformat": 4,
 "nbformat_minor": 5
}
